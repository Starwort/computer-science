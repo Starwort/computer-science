{
 "metadata": {
  "language_info": {
   "codemirror_mode": {
    "name": "ipython",
    "version": 3
   },
   "file_extension": ".py",
   "mimetype": "text/x-python",
   "name": "python",
   "nbconvert_exporter": "python",
   "pygments_lexer": "ipython3",
   "version": "3.9.0-final"
  },
  "orig_nbformat": 2,
  "kernelspec": {
   "name": "python3",
   "display_name": "Python 3",
   "language": "python"
  }
 },
 "nbformat": 4,
 "nbformat_minor": 2,
 "cells": [
  {
   "source": [
    "# Coding the algorithms"
   ],
   "cell_type": "markdown",
   "metadata": {}
  },
  {
   "source": [
    "## Linear search "
   ],
   "cell_type": "markdown",
   "metadata": {}
  },
  {
   "cell_type": "code",
   "execution_count": 1,
   "metadata": {},
   "outputs": [
    {
     "output_type": "stream",
     "name": "stdout",
     "text": [
      "[0, 2, 4, 6, 8, 10, 12, 14, 16, 18]\n"
     ]
    }
   ],
   "source": [
    "sorted_list = [2*x for x in range(10)]\n",
    "print(sorted_list)"
   ]
  },
  {
   "cell_type": "code",
   "execution_count": 2,
   "metadata": {},
   "outputs": [],
   "source": [
    "def linear_search(list, object_to_find):\n",
    "    \"returns index of object or -1 if not present\"\n",
    "    pass"
   ]
  },
  {
   "cell_type": "code",
   "execution_count": 3,
   "metadata": {},
   "outputs": [
    {
     "output_type": "stream",
     "name": "stdout",
     "text": [
      "None\nNone\n"
     ]
    }
   ],
   "source": [
    "print(linear_search(sorted_list, 8))\n",
    "# returns(4)\n",
    "print(linear_search(sorted_list, 7))\n",
    "# rerurns(-1)"
   ]
  },
  {
   "source": [
    "## Binary search "
   ],
   "cell_type": "markdown",
   "metadata": {}
  },
  {
   "cell_type": "code",
   "execution_count": 4,
   "metadata": {},
   "outputs": [],
   "source": [
    "def binary_search(list, object_to_find):\n",
    "    \"returns index of object or -1 if not present\"\n",
    "    pass"
   ]
  },
  {
   "cell_type": "code",
   "execution_count": 5,
   "metadata": {},
   "outputs": [
    {
     "output_type": "stream",
     "name": "stdout",
     "text": [
      "None\nNone\n"
     ]
    }
   ],
   "source": [
    "print(binary_search(sorted_list, 8))\n",
    "# returns(4)\n",
    "print(binary_search(sorted_list, 7))\n",
    "# rerurns(-1)"
   ]
  },
  {
   "source": [
    "## Recursive binary search "
   ],
   "cell_type": "markdown",
   "metadata": {}
  },
  {
   "cell_type": "code",
   "execution_count": 6,
   "metadata": {},
   "outputs": [],
   "source": [
    "def recursive_binary_search(list, object_to_find):\n",
    "    \"returns index of object or -1 if not present\"\n",
    "    pass"
   ]
  },
  {
   "cell_type": "code",
   "execution_count": 7,
   "metadata": {},
   "outputs": [
    {
     "output_type": "stream",
     "name": "stdout",
     "text": [
      "None\nNone\n"
     ]
    }
   ],
   "source": [
    "print(recursive_binary_search(sorted_list, 8))\n",
    "# returns(4)\n",
    "print(recursive_binary_search(sorted_list, 7))\n",
    "# rerurns(-1)"
   ]
  },
  {
   "source": [
    "# Comparing performance\n",
    "\n",
    "## measuring execution time with a time difference "
   ],
   "cell_type": "markdown",
   "metadata": {}
  },
  {
   "cell_type": "code",
   "execution_count": 8,
   "metadata": {},
   "outputs": [],
   "source": [
    "import time "
   ]
  },
  {
   "cell_type": "code",
   "execution_count": 9,
   "metadata": {},
   "outputs": [
    {
     "output_type": "stream",
     "name": "stdout",
     "text": [
      "CS rocks!\nCS rocks!\nCS rocks!\nCS rocks!\nCS rocks!\nTotal runtime of the program is 24.263858795166016ms\n"
     ]
    }
   ],
   "source": [
    "# store starting time \n",
    "begin = time.time() \n",
    "  \n",
    "# program body starts \n",
    "for i in range(5): \n",
    "    print(\"CS rocks!\") \n",
    "# program body ends \n",
    "\n",
    "# store end time \n",
    "end = time.time()\n",
    "  \n",
    "# total time taken \n",
    "print(f\"Total runtime of the program is {(end - begin) * 10e3}ms\") \n"
   ]
  },
  {
   "cell_type": "code",
   "execution_count": 10,
   "metadata": {},
   "outputs": [],
   "source": [
    "def time_it(func,*args):\n",
    "    # store starting time \n",
    "    begin = time.time() \n",
    "    \n",
    "    # program body starts \n",
    "    func(*args)\n",
    "    # program body ends \n",
    "\n",
    "    # store end time \n",
    "    end = time.time()\n",
    "    \n",
    "    # total time taken \n",
    "    print(f\"Total runtime of the program is {(end - begin)*10e3}ms\") \n"
   ]
  },
  {
   "cell_type": "code",
   "execution_count": 11,
   "metadata": {},
   "outputs": [],
   "source": [
    "def print_message(n):\n",
    "    for i in range(n): \n",
    "        print(\"CS rocks!\")"
   ]
  },
  {
   "cell_type": "code",
   "execution_count": 12,
   "metadata": {},
   "outputs": [
    {
     "output_type": "stream",
     "name": "stdout",
     "text": [
      "CS rocks!\nCS rocks!\nCS rocks!\nCS rocks!\nCS rocks!\nTotal runtime of the program is 5.1116943359375ms\n"
     ]
    }
   ],
   "source": [
    "time_it(print_message, 5)"
   ]
  },
  {
   "source": [
    "Compare performances of linear, binary and recursive binary"
   ],
   "cell_type": "markdown",
   "metadata": {}
  },
  {
   "cell_type": "code",
   "execution_count": 13,
   "metadata": {},
   "outputs": [],
   "source": [
    "import random"
   ]
  },
  {
   "cell_type": "code",
   "execution_count": 14,
   "metadata": {},
   "outputs": [],
   "source": [
    "sorted_list = [2*x for x in range(10)]\n",
    "unsorted_list  = random.sample(sorted_list, len(sorted_list))\n",
    "random_element = random.choice(unsorted_list)"
   ]
  },
  {
   "cell_type": "code",
   "execution_count": 15,
   "metadata": {},
   "outputs": [
    {
     "output_type": "stream",
     "name": "stdout",
     "text": [
      "Total runtime of the program is 0.01430511474609375ms\nTotal runtime of the program is 0.016689300537109375ms\nTotal runtime of the program is 0.011920928955078125ms\n"
     ]
    }
   ],
   "source": [
    "time_it(linear_search, unsorted_list, random_element)\n",
    "time_it(binary_search, unsorted_list, random_element)\n",
    "time_it(recursive_binary_search, unsorted_list, random_element)"
   ]
  },
  {
   "source": [
    "# Binary tree implementation"
   ],
   "cell_type": "markdown",
   "metadata": {}
  },
  {
   "source": [
    "## Implementation\n",
    "use a 2D array with 3 columns (left, data, right)"
   ],
   "cell_type": "markdown",
   "metadata": {}
  },
  {
   "cell_type": "code",
   "execution_count": null,
   "metadata": {},
   "outputs": [],
   "source": []
  },
  {
   "source": [
    "## Recursive binary search in binary tree "
   ],
   "cell_type": "markdown",
   "metadata": {}
  },
  {
   "cell_type": "code",
   "execution_count": null,
   "metadata": {},
   "outputs": [],
   "source": []
  },
  {
   "source": [
    "## Pre-, in-, and post-order traversal"
   ],
   "cell_type": "markdown",
   "metadata": {}
  },
  {
   "source": [
    "Why does execuion time  varies? "
   ],
   "cell_type": "markdown",
   "metadata": {}
  },
  {
   "source": [
    "# Advanced topic: Tips for optimisation "
   ],
   "cell_type": "markdown",
   "metadata": {}
  },
  {
   "source": [
    "use numpy arrays "
   ],
   "cell_type": "markdown",
   "metadata": {}
  },
  {
   "cell_type": "code",
   "execution_count": 16,
   "metadata": {},
   "outputs": [],
   "source": [
    "import numpy as np"
   ]
  },
  {
   "source": [
    "1D"
   ],
   "cell_type": "markdown",
   "metadata": {}
  },
  {
   "cell_type": "code",
   "execution_count": 17,
   "metadata": {},
   "outputs": [
    {
     "output_type": "stream",
     "name": "stdout",
     "text": [
      "list:\n[0, 1, 2, 3, 4, 5, 6, 7, 8, 9]\narray:\n[0 1 2 3 4 5 6 7 8 9]\n"
     ]
    }
   ],
   "source": [
    "l = [x for x in range(10)]\n",
    "print(\"list:\\n\", l, sep=\"\")\n",
    "arr = np.array(l)\n",
    "print(\"array:\\n\", arr, sep=\"\")"
   ]
  },
  {
   "source": [
    "2D"
   ],
   "cell_type": "markdown",
   "metadata": {}
  },
  {
   "cell_type": "code",
   "execution_count": 18,
   "metadata": {},
   "outputs": [
    {
     "output_type": "stream",
     "name": "stdout",
     "text": [
      "list:\n[[0, 0, 0, 0, 0, 0, 0, 0, 0, 0], [0, 1, 2, 3, 4, 5, 6, 7, 8, 9], [0, 2, 4, 6, 8, 10, 12, 14, 16, 18]]\narray:\n[[ 0  0  0  0  0  0  0  0  0  0]\n [ 0  1  2  3  4  5  6  7  8  9]\n [ 0  2  4  6  8 10 12 14 16 18]]\n12\n"
     ]
    }
   ],
   "source": [
    "l = [[x * y for x in range (10)] for y in range(3)]\n",
    "print(\"list:\\n\", l, sep=\"\")\n",
    "arr = np.array(l)\n",
    "print(\"array:\\n\", arr, sep=\"\")\n",
    "print(arr[2, 6])"
   ]
  },
  {
   "source": [
    "Using multi-processing"
   ],
   "cell_type": "markdown",
   "metadata": {}
  },
  {
   "cell_type": "code",
   "execution_count": 19,
   "metadata": {},
   "outputs": [
    {
     "output_type": "stream",
     "name": "stdout",
     "text": [
      "[1, 4, 9]\n"
     ]
    }
   ],
   "source": [
    "from multiprocessing import Pool\n",
    "\n",
    "def f(x):\n",
    "    return x * x\n",
    "\n",
    "if __name__ == '__main__':\n",
    "    with Pool(5) as p:\n",
    "        print(p.map(f, [1, 2, 3]))"
   ]
  }
 ]
}