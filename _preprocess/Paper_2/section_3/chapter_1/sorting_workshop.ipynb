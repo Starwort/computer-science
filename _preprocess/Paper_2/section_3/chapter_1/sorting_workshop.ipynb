{
 "metadata": {
  "language_info": {
   "codemirror_mode": {
    "name": "ipython",
    "version": 3
   },
   "file_extension": ".py",
   "mimetype": "text/x-python",
   "name": "python",
   "nbconvert_exporter": "python",
   "pygments_lexer": "ipython3",
   "version": "3.9.0-final"
  },
  "orig_nbformat": 2,
  "kernelspec": {
   "name": "python3",
   "display_name": "Python 3",
   "language": "python"
  }
 },
 "nbformat": 4,
 "nbformat_minor": 2,
 "cells": [
  {
   "source": [
    "# Coding the algorithms"
   ],
   "cell_type": "markdown",
   "metadata": {}
  },
  {
   "source": [
    "## Linear search "
   ],
   "cell_type": "markdown",
   "metadata": {}
  },
  {
   "cell_type": "code",
   "execution_count": 2,
   "metadata": {},
   "outputs": [
    {
     "output_type": "stream",
     "name": "stdout",
     "text": [
      "[0, 2, 4, 6, 8, 10, 12, 14, 16, 18]\n"
     ]
    }
   ],
   "source": [
    "sorted_list = [2*x for x in range(10)]\n",
    "print(sorted_list)"
   ]
  },
  {
   "cell_type": "code",
   "execution_count": 3,
   "metadata": {},
   "outputs": [],
   "source": [
    "def linear_search(to_search: list, object_to_find: object) -> int:\n",
    "    \"\"\"returns index of object or -1 if not present\"\"\"\n",
    "    for i, obj in enumerate(to_search):\n",
    "        if object_to_find == obj:\n",
    "            return i\n",
    "    return -1"
   ]
  },
  {
   "cell_type": "code",
   "execution_count": 4,
   "metadata": {},
   "outputs": [
    {
     "output_type": "stream",
     "name": "stdout",
     "text": [
      "4\n-1\n"
     ]
    }
   ],
   "source": [
    "print(linear_search(sorted_list, 8))\n",
    "# returns 4\n",
    "print(linear_search(sorted_list, 7))\n",
    "# returns -1"
   ]
  },
  {
   "source": [
    "## Binary search "
   ],
   "cell_type": "markdown",
   "metadata": {}
  },
  {
   "cell_type": "code",
   "execution_count": 5,
   "metadata": {},
   "outputs": [],
   "source": [
    "def binary_search(to_search: list, object_to_find: object) -> int:\n",
    "    \"\"\"returns index of object or -1 if not present\"\"\"\n",
    "    start = 0\n",
    "    end = len(to_search)\n",
    "    while start != end:\n",
    "        mid = (end - start) // 2 + start\n",
    "        if to_search[mid] == object_to_find:\n",
    "            return mid\n",
    "        elif to_search[mid] > object_to_find:\n",
    "            end = mid\n",
    "        else:\n",
    "            start = mid + 1\n",
    "    return -1"
   ]
  },
  {
   "cell_type": "code",
   "execution_count": 6,
   "metadata": {},
   "outputs": [
    {
     "output_type": "stream",
     "name": "stdout",
     "text": [
      "4\n-1\n"
     ]
    }
   ],
   "source": [
    "print(binary_search(sorted_list, 8))\n",
    "# returns 4\n",
    "print(binary_search(sorted_list, 7))\n",
    "# returns -1"
   ]
  },
  {
   "source": [
    "## Recursive binary search "
   ],
   "cell_type": "markdown",
   "metadata": {}
  },
  {
   "cell_type": "code",
   "execution_count": 7,
   "metadata": {},
   "outputs": [],
   "source": [
    "def recursive_binary_search(\n",
    "    to_find_in: list, to_find: object, *, my_index=0\n",
    ") -> int:\n",
    "    \"\"\"returns index of object or -1 if not present\"\"\"\n",
    "    if not to_find_in:\n",
    "        return -1\n",
    "    items = len(to_find_in)\n",
    "    search_point = items // 2\n",
    "    search_val = to_find_in[search_point]\n",
    "    if search_val == to_find:\n",
    "        return my_index + search_point\n",
    "    elif search_val < to_find:\n",
    "        return recursive_binary_search(\n",
    "            to_find_in[search_point + 1:], to_find, my_index=my_index + search_point + 1\n",
    "        )\n",
    "    else:\n",
    "        return recursive_binary_search(\n",
    "            to_find_in[:search_point], to_find, my_index=my_index\n",
    "        )"
   ]
  },
  {
   "cell_type": "code",
   "execution_count": 8,
   "metadata": {},
   "outputs": [
    {
     "output_type": "stream",
     "name": "stdout",
     "text": [
      "4\n-1\n"
     ]
    }
   ],
   "source": [
    "print(recursive_binary_search(sorted_list, 8))\n",
    "# returns 4 \n",
    "print(recursive_binary_search(sorted_list, 7))\n",
    "# returns -1"
   ]
  },
  {
   "source": [
    "# Comparing performance\n",
    "\n",
    "## measuring execution time with a time difference "
   ],
   "cell_type": "markdown",
   "metadata": {}
  },
  {
   "cell_type": "code",
   "execution_count": 9,
   "metadata": {},
   "outputs": [],
   "source": [
    "import time "
   ]
  },
  {
   "cell_type": "code",
   "execution_count": 10,
   "metadata": {},
   "outputs": [
    {
     "output_type": "stream",
     "name": "stdout",
     "text": [
      "CS rocks!\nCS rocks!\nCS rocks!\nCS rocks!\nCS rocks!\nTotal runtime of the program is 15.592575073242188ms\n"
     ]
    }
   ],
   "source": [
    "# store starting time \n",
    "begin = time.time() \n",
    "  \n",
    "# program body starts \n",
    "for i in range(5): \n",
    "    print(\"CS rocks!\") \n",
    "# program body ends \n",
    "\n",
    "# store end time \n",
    "end = time.time()\n",
    "  \n",
    "# total time taken \n",
    "print(f\"Total runtime of the program is {(end - begin) * 10e3}ms\") \n"
   ]
  },
  {
   "cell_type": "code",
   "execution_count": 11,
   "metadata": {},
   "outputs": [],
   "source": [
    "def time_it(func, *args):\n",
    "    # store starting time \n",
    "    begin = time.time() \n",
    "    \n",
    "    # program body starts \n",
    "    func(*args)\n",
    "    # program body ends \n",
    "\n",
    "    # store end time \n",
    "    end = time.time()\n",
    "    \n",
    "    # total time taken \n",
    "    print(f\"Total runtime of the program is {(end - begin) * 10e3}ms\") \n"
   ]
  },
  {
   "cell_type": "code",
   "execution_count": 12,
   "metadata": {},
   "outputs": [],
   "source": [
    "def print_message(n):\n",
    "    for i in range(n): \n",
    "        print(\"CS rocks!\")"
   ]
  },
  {
   "cell_type": "code",
   "execution_count": 13,
   "metadata": {},
   "outputs": [
    {
     "output_type": "stream",
     "name": "stdout",
     "text": [
      "CS rocks!\nCS rocks!\nCS rocks!\nCS rocks!\nCS rocks!\nTotal runtime of the program is 2.658367156982422ms\n"
     ]
    }
   ],
   "source": [
    "time_it(print_message, 5)"
   ]
  },
  {
   "source": [
    "Compare performances of linear, binary and recursive binary"
   ],
   "cell_type": "markdown",
   "metadata": {}
  },
  {
   "cell_type": "code",
   "execution_count": 14,
   "metadata": {},
   "outputs": [],
   "source": [
    "import random"
   ]
  },
  {
   "cell_type": "code",
   "execution_count": 15,
   "metadata": {},
   "outputs": [],
   "source": [
    "sorted_list = [2 * x for x in range(10)]\n",
    "unsorted_list  = random.sample(sorted_list, len(sorted_list))\n",
    "random_element = random.choice(unsorted_list)"
   ]
  },
  {
   "cell_type": "code",
   "execution_count": 16,
   "metadata": {},
   "outputs": [
    {
     "output_type": "stream",
     "name": "stdout",
     "text": [
      "Total runtime of the program is 0.0476837158203125ms\nTotal runtime of the program is 0.054836273193359375ms\nTotal runtime of the program is 0.0667572021484375ms\nTotal runtime of the program is 0.016689300537109375ms\nTotal runtime of the program is 0.011920928955078125ms\n"
     ]
    }
   ],
   "source": [
    "time_it(linear_search, unsorted_list, random_element)\n",
    "time_it(binary_search, sorted_list, random_element)\n",
    "time_it(recursive_binary_search, sorted_list, random_element)\n",
    "time_it(unsorted_list.index, random_element)\n",
    "time_it(sorted_list.index, random_element)"
   ]
  },
  {
   "source": [
    "# Binary tree implementation"
   ],
   "cell_type": "markdown",
   "metadata": {}
  },
  {
   "source": [
    "## Implementation\n",
    "use a 2D array with 3 columns (left, data, right)"
   ],
   "cell_type": "markdown",
   "metadata": {}
  },
  {
   "cell_type": "code",
   "execution_count": 17,
   "metadata": {},
   "outputs": [],
   "source": [
    "# I don't want to use a 2D array, I want to use objects with __slots__ D:\n",
    "bin_tree = [[None for i in range(3)] for i in range(15)]\n",
    "# I have no data to put in this tree\n",
    "node_5 = bin_tree[5]\n",
    "node_5_val = node_5[0]\n",
    "node_5_left_idx = node_5[1]\n",
    "node_5_right_idx = node_5[2]"
   ]
  },
  {
   "source": [
    "## Recursive binary search in binary tree "
   ],
   "cell_type": "markdown",
   "metadata": {}
  },
  {
   "cell_type": "code",
   "execution_count": 18,
   "metadata": {},
   "outputs": [],
   "source": [
    "def recursive_bst_search(tree: list[list], find: object, index: int = 0) -> bool:\n",
    "    root = tree[index]\n",
    "    val = root[0]\n",
    "    if val == find:\n",
    "        return True\n",
    "    elif find < val:\n",
    "        left_ptr = root[1]\n",
    "        if left_ptr is None:\n",
    "            return False\n",
    "        return recursive_bst_search(tree, find, left_ptr)\n",
    "    else:\n",
    "        right_ptr = root[2]\n",
    "        if right_ptr is None:\n",
    "            return False\n",
    "        return recursive_bst_search(tree, find, right_ptr)"
   ]
  },
  {
   "source": [
    "## Pre-, in-, and post-order traversal"
   ],
   "cell_type": "markdown",
   "metadata": {}
  },
  {
   "source": [
    "Why does execution time vary? Because different traversals require different amounts of stack space and CPU availability can be pseudo-random"
   ],
   "cell_type": "markdown",
   "metadata": {}
  },
  {
   "source": [
    "# Advanced topic: Tips for optimisation "
   ],
   "cell_type": "markdown",
   "metadata": {}
  },
  {
   "source": [
    "use numpy arrays "
   ],
   "cell_type": "markdown",
   "metadata": {}
  },
  {
   "cell_type": "code",
   "execution_count": 19,
   "metadata": {},
   "outputs": [],
   "source": [
    "import numpy as np"
   ]
  },
  {
   "source": [
    "1D"
   ],
   "cell_type": "markdown",
   "metadata": {}
  },
  {
   "cell_type": "code",
   "execution_count": 20,
   "metadata": {},
   "outputs": [
    {
     "output_type": "stream",
     "name": "stdout",
     "text": [
      "list:\n[0, 1, 2, 3, 4, 5, 6, 7, 8, 9]\narray:\n[0 1 2 3 4 5 6 7 8 9]\n"
     ]
    }
   ],
   "source": [
    "l = [x for x in range(10)]\n",
    "print(\"list:\\n\", l, sep=\"\")\n",
    "arr = np.array(l)\n",
    "print(\"array:\\n\", arr, sep=\"\")"
   ]
  },
  {
   "source": [
    "2D"
   ],
   "cell_type": "markdown",
   "metadata": {}
  },
  {
   "cell_type": "code",
   "execution_count": 21,
   "metadata": {},
   "outputs": [
    {
     "output_type": "stream",
     "name": "stdout",
     "text": [
      "list:\n[[0, 0, 0, 0, 0, 0, 0, 0, 0, 0], [0, 1, 2, 3, 4, 5, 6, 7, 8, 9], [0, 2, 4, 6, 8, 10, 12, 14, 16, 18]]\narray:\n[[ 0  0  0  0  0  0  0  0  0  0]\n [ 0  1  2  3  4  5  6  7  8  9]\n [ 0  2  4  6  8 10 12 14 16 18]]\n12\n"
     ]
    }
   ],
   "source": [
    "l = [[x * y for x in range (10)] for y in range(3)]\n",
    "print(\"list:\\n\", l, sep=\"\")\n",
    "arr = np.array(l)\n",
    "print(\"array:\\n\", arr, sep=\"\")\n",
    "print(arr[2, 6])"
   ]
  },
  {
   "source": [
    "Using multi-processing"
   ],
   "cell_type": "markdown",
   "metadata": {}
  },
  {
   "cell_type": "code",
   "execution_count": 22,
   "metadata": {},
   "outputs": [
    {
     "output_type": "stream",
     "name": "stdout",
     "text": [
      "[1, 4, 9]\n"
     ]
    }
   ],
   "source": [
    "from multiprocessing import Pool\n",
    "\n",
    "def f(x):\n",
    "    return x * x\n",
    "\n",
    "if __name__ == '__main__':\n",
    "    with Pool(5) as p:\n",
    "        print(p.map(f, [1, 2, 3]))"
   ]
  }
 ]
}