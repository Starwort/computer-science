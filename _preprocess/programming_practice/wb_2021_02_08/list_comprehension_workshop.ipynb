{
 "cells": [
  {
   "cell_type": "markdown",
   "metadata": {},
   "source": [
    "# List comprehension"
   ]
  },
  {
   "cell_type": "markdown",
   "metadata": {},
   "source": [
    "Principle: \n",
    "\n",
    "\n",
    "The idea of a list comprehension is to make code more compact to accomplish tasks involving lists. \n"
   ]
  },
  {
   "cell_type": "code",
   "execution_count": null,
   "metadata": {},
   "outputs": [],
   "source": [
    "years_of_birth = [1990, 1991, 1990, 2000, 2012, 2020]"
   ]
  },
  {
   "cell_type": "code",
   "execution_count": null,
   "metadata": {},
   "outputs": [],
   "source": [
    "ages = []\n",
    "for year in years_of_birth: \n",
    "  ages.append(2021 - year)"
   ]
  },
  {
   "cell_type": "markdown",
   "metadata": {},
   "source": [
    "This code translates the years of birth into ages, and it took us a for loop and an append statement to a new list to do that."
   ]
  },
  {
   "cell_type": "code",
   "execution_count": null,
   "metadata": {},
   "outputs": [],
   "source": [
    "ages = [2021 - year for year in years_of_birth]"
   ]
  },
  {
   "cell_type": "markdown",
   "metadata": {},
   "source": [
    "This is a list comprehension.\n",
    "\n",
    "It accomplishes the same thing as the first code sample - at the end, the ages variable has a list containing the ages corresponding to all the birthdates."
   ]
  },
  {
   "cell_type": "markdown",
   "metadata": {},
   "source": [
    "## Exercises"
   ]
  },
  {
   "cell_type": "markdown",
   "metadata": {},
   "source": [
    "Create an identical list from the first list using list comprehension."
   ]
  },
  {
   "cell_type": "code",
   "execution_count": null,
   "metadata": {},
   "outputs": [],
   "source": [
    "lst1=[1,2,3,4,5]"
   ]
  },
  {
   "cell_type": "code",
   "execution_count": null,
   "metadata": {},
   "outputs": [],
   "source": [
    "copy_of_lst1 = [i for i in lst1]"
   ]
  },
  {
   "cell_type": "markdown",
   "metadata": {},
   "source": [
    "Using list comprehension, construct a list from the squares of each element in the list."
   ]
  },
  {
   "cell_type": "code",
   "execution_count": null,
   "metadata": {},
   "outputs": [],
   "source": [
    "lst1=[1,2,3,4,5]\n",
    "squared_list = [i**2 for i in lst1]"
   ]
  },
  {
   "cell_type": "markdown",
   "metadata": {},
   "source": [
    "Create a list from the elements of a range from 1200 to 2000 with steps of 130, using list comprehension and the function __range()__"
   ]
  },
  {
   "cell_type": "code",
   "execution_count": 157,
   "metadata": {},
   "outputs": [
    {
     "name": "stdout",
     "output_type": "stream",
     "text": [
      "[0, 1, 2, 3, 4, 5, 6, 7, 8, 9]\n",
      "[0, 1, 2, 3, 4, 5, 6, 7, 8, 9]\n",
      "[4, 5, 6, 7, 8, 9]\n",
      "[4, 6, 8]\n",
      "[10, 9, 8, 7, 6, 5]\n"
     ]
    }
   ],
   "source": [
    "print([n for n in range(10)]) # the end value is not included! \n",
    "print([n for n in range(0,10,1)]) # start value = 0 and step = 1 (same as default) \n",
    "print([n for n in range(4,10)]) # changing start value\n",
    "print([n for n in range(4,10, 2)]) # changing step\n",
    "print([n for n in range(10,4, -1)]) # changing order and decreasing step"
   ]
  },
  {
   "cell_type": "code",
   "execution_count": null,
   "metadata": {},
   "outputs": [],
   "source": [
    "print([n for n in range(1200,2001,130)])"
   ]
  },
  {
   "cell_type": "markdown",
   "metadata": {},
   "source": [
    "# Conditions"
   ]
  },
  {
   "cell_type": "code",
   "execution_count": 8,
   "metadata": {},
   "outputs": [],
   "source": [
    "years_of_birth = [1990, 1991, 2008, 2005, 2012, 2020]\n",
    "ages_of_teens = []\n",
    "for year in years_of_birth:\n",
    "    age = 2021 - year\n",
    "    if 13<=age <= 19 : \n",
    "        ages_of_teens.append(age)"
   ]
  },
  {
   "cell_type": "code",
   "execution_count": null,
   "metadata": {},
   "outputs": [],
   "source": [
    "ages_of_teens = [age for year in years_of_birth if 13 <= (age:=2021 - year) <= 19]"
   ]
  },
  {
   "cell_type": "code",
   "execution_count": 9,
   "metadata": {},
   "outputs": [
    {
     "data": {
      "text/plain": [
       "[13, 16]"
      ]
     },
     "execution_count": 9,
     "metadata": {},
     "output_type": "execute_result"
    }
   ],
   "source": [
    "ages_of_teens"
   ]
  },
  {
   "cell_type": "markdown",
   "metadata": {},
   "source": [
    "Using list comprehension, construct a list from the squares of each element in the list, if the square is greater than 50."
   ]
  },
  {
   "cell_type": "code",
   "execution_count": null,
   "metadata": {},
   "outputs": [],
   "source": [
    "lst1=[2, 4, 6, 8, 10, 12, 14]\n",
    "squares_above_fifty=[square for i in lst1 if (square:=i**2) > 50]\n"
   ]
  },
  {
   "cell_type": "markdown",
   "metadata": {},
   "source": [
    "Return only the odd elements of the list"
   ]
  },
  {
   "cell_type": "code",
   "execution_count": null,
   "metadata": {},
   "outputs": [],
   "source": [
    "lst1=[2, 5, 6, 9, 11, 12, 14]\n",
    "odd_elements=[i for i in lst1 if i % 2]"
   ]
  },
  {
   "cell_type": "markdown",
   "metadata": {},
   "source": [
    "## Very difficult optional question\n",
    "\n",
    "Find all prime numbers smaller than N using a single line with list comprehension"
   ]
  },
  {
   "cell_type": "code",
   "execution_count": 2,
   "metadata": {},
   "outputs": [
    {
     "data": {
      "text/plain": "[1, 2, 3, 5, 7, 11, 13, 17, 19]"
     },
     "execution_count": 2,
     "metadata": {},
     "output_type": "execute_result"
    }
   ],
   "source": [
    "n = 20\n",
    "primes = [i for i in range(1,n+1) if all([i%k!=0 for k in range(2,int(i**(1/2)) + 1)])]"
   ]
  },
  {
   "cell_type": "markdown",
   "metadata": {},
   "source": [
    "# Nested lists\n",
    "\n",
    " \n",
    "to create 2D arrays "
   ]
  },
  {
   "cell_type": "code",
   "execution_count": 108,
   "metadata": {},
   "outputs": [
    {
     "name": "stdout",
     "output_type": "stream",
     "text": [
      "[[1, 2, 3, 4, 5], [2, 4, 6, 8, 10], [3, 6, 9, 12, 15]]\n",
      "[3, 6, 9, 12, 15]\n",
      "15\n"
     ]
    }
   ],
   "source": [
    "rows = 3\n",
    "columns = 5\n",
    "arr = [[(j+1)*(i+1) for j in range(columns)] for i in range(rows)]\n",
    "print(arr)\n",
    "print(arr[2])\n",
    "print(arr[2][4])"
   ]
  },
  {
   "cell_type": "markdown",
   "metadata": {},
   "source": [
    "### Tip: numpy library\n",
    "\n",
    "Use numpy to manipulate these arrays easily. Numpy, being written in C, is much more efficient than python for heavy calculation."
   ]
  },
  {
   "cell_type": "code",
   "execution_count": 142,
   "metadata": {},
   "outputs": [],
   "source": [
    "import numpy as np"
   ]
  },
  {
   "cell_type": "code",
   "execution_count": 150,
   "metadata": {},
   "outputs": [
    {
     "name": "stdout",
     "output_type": "stream",
     "text": [
      "[[ 1  2  3  4  5]\n",
      " [ 2  4  6  8 10]\n",
      " [ 3  6  9 12 15]]\n",
      "15\n",
      "[ 5 10 15]\n",
      "[15 10  5]\n",
      "[[ -1.5  -3.   -4.5  -6.   -7.5]\n",
      " [ -3.   -6.   -9.  -12.  -15. ]\n",
      " [ -4.5  -9.  -13.5 -18.  -22.5]]\n"
     ]
    }
   ],
   "source": [
    "np_arr = np.array(arr)\n",
    "print(np_arr) # better display of array\n",
    "print(np_arr[2,4]) # accessing the elements with one set of []\n",
    "print(np_arr[:,4]) # Using an empty slice takes all the rows, hence a column\n",
    "print(np_arr[::-1,4]) # print the columns in reverse!! \n",
    "print(np_arr*-1.5) # multiply the whole array by a float"
   ]
  },
  {
   "cell_type": "markdown",
   "metadata": {},
   "source": [
    "# PACKING AND UNPACKING \n",
    "# Unpacking variables "
   ]
  },
  {
   "cell_type": "markdown",
   "metadata": {},
   "source": [
    "When we have a list, we can assign the values of the list to several variables"
   ]
  },
  {
   "cell_type": "code",
   "execution_count": 17,
   "metadata": {},
   "outputs": [
    {
     "name": "stdout",
     "output_type": "stream",
     "text": [
      "i=1 , j=2 , k=3\n"
     ]
    }
   ],
   "source": [
    "i,j,k = [1,2,3]\n",
    "print(f\"{i=}, {j=}, {k=}\")"
   ]
  },
  {
   "cell_type": "markdown",
   "metadata": {},
   "source": [
    "When we have a list of list, we can either use each element"
   ]
  },
  {
   "cell_type": "code",
   "execution_count": 12,
   "metadata": {},
   "outputs": [],
   "source": [
    "L = [[1,'a'],[2,'b'],[3,'c']]"
   ]
  },
  {
   "cell_type": "code",
   "execution_count": 13,
   "metadata": {},
   "outputs": [
    {
     "name": "stdout",
     "output_type": "stream",
     "text": [
      "[1, 'a']\n",
      "[2, 'b']\n",
      "[3, 'c']\n"
     ]
    }
   ],
   "source": [
    "for a in L : \n",
    "    print(a) # each element is a list (i.e. \"packed\")"
   ]
  },
  {
   "cell_type": "code",
   "execution_count": 99,
   "metadata": {},
   "outputs": [
    {
     "name": "stdout",
     "output_type": "stream",
     "text": [
      "number : 1 , letter : a\n",
      "number : 2 , letter : b\n",
      "number : 3 , letter : c\n"
     ]
    }
   ],
   "source": [
    "for a in L : \n",
    "    n,char  = a # we \"unpack\" each element \n",
    "    print(f\"number: {n}, letter: {char}\")"
   ]
  },
  {
   "cell_type": "markdown",
   "metadata": {},
   "source": [
    "or we can \"unpack\" the elements in the \"for\" loop"
   ]
  },
  {
   "cell_type": "code",
   "execution_count": 14,
   "metadata": {},
   "outputs": [
    {
     "name": "stdout",
     "output_type": "stream",
     "text": [
      "number : 1 , letter a\n",
      "number : 2 , letter b\n",
      "number : 3 , letter c\n"
     ]
    }
   ],
   "source": [
    "for n,char in L : # we \"unpack\" in the for loop\n",
    "    print(f\"number: {n}, letter: {char}\")"
   ]
  },
  {
   "cell_type": "markdown",
   "metadata": {},
   "source": [
    "# Packing variables with useful list functions \n",
    "\n",
    "## `enumerate`\n",
    "\n",
    "This function yields tuples with the index of the element and the value of the element"
   ]
  },
  {
   "cell_type": "code",
   "execution_count": 23,
   "metadata": {},
   "outputs": [
    {
     "name": "stdout",
     "output_type": "stream",
     "text": [
      "(0, 'a')\n",
      "(1, 'b')\n",
      "(2, 'c')\n"
     ]
    }
   ],
   "source": [
    "l=[\"a\", \"b\", \"c\"]\n",
    "for n in enumerate(l) : # we do not \"unpack\" the tuple\n",
    "    print(n)"
   ]
  },
  {
   "cell_type": "code",
   "execution_count": 29,
   "metadata": {},
   "outputs": [
    {
     "name": "stdout",
     "output_type": "stream",
     "text": [
      "index : 0 , element : a\n",
      "index : 1 , element : b\n",
      "index : 2 , element : c\n"
     ]
    }
   ],
   "source": [
    "l=[\"a\", \"b\", \"c\"]\n",
    "for index, element in enumerate(l) : # \"unpacking\" the tuple \n",
    "    print(f\"index : {index} , element : {element}\")"
   ]
  },
  {
   "cell_type": "markdown",
   "metadata": {},
   "source": [
    "## Exercise \n",
    "\n",
    "\n",
    "enhance the following linear search algorithm using \"enumerate\""
   ]
  },
  {
   "cell_type": "code",
   "execution_count": null,
   "metadata": {},
   "outputs": [],
   "source": [
    "def linear_search(list_to_search, object_to_find):\n",
    "    \"returns index of object or -1 if not present\"\n",
    "    for n, obj in enumerate(list_to_search) : \n",
    "        if obj == object_to_find:\n",
    "            return n\n",
    "    return -1"
   ]
  },
  {
   "cell_type": "markdown",
   "metadata": {},
   "source": [
    "## Function \"zip\"\n",
    "\n",
    "Packing two lists together (like a zip in a garment)"
   ]
  },
  {
   "cell_type": "code",
   "execution_count": 113,
   "metadata": {},
   "outputs": [
    {
     "name": "stdout",
     "output_type": "stream",
     "text": [
      "[('h', 0), ('e', 1), ('l', 2), ('l', 3), ('o', 4)]\n"
     ]
    }
   ],
   "source": [
    "letters = \"hello\"\n",
    "numbers = range(5)\n",
    "print([(l,n) for l,n in zip(letters, numbers)])"
   ]
  },
  {
   "cell_type": "markdown",
   "metadata": {},
   "source": [
    "## exercise \n",
    "\n",
    "here is a list of cars and a list of masses\n",
    "\n",
    "print a statement like \"the Sedan has a mass of 1500 kg\" for each car. "
   ]
  },
  {
   "cell_type": "code",
   "execution_count": 125,
   "metadata": {},
   "outputs": [],
   "source": [
    "names = ['Sedan', 'SUV', 'Pickup', 'Minivan', 'Van', 'Semi', 'Bicycle', 'Motorcycle']\n",
    "values = [1500, 2000, 2500, 1600, 2400, 13600, 7, 110]"
   ]
  },
  {
   "cell_type": "code",
   "execution_count": null,
   "metadata": {},
   "outputs": [],
   "source": [
    "for name, mass in zip(names, values):\n",
    "    print(f'The {name} has a mass of {mass}kg')"
   ]
  },
  {
   "cell_type": "markdown",
   "metadata": {},
   "source": [
    "# Dictionary comprehension\n",
    "\n",
    "you can use dict comprehension as list comprehension, providing both a UNIQUE key and a value for each key"
   ]
  },
  {
   "cell_type": "code",
   "execution_count": 126,
   "metadata": {},
   "outputs": [
    {
     "name": "stdout",
     "output_type": "stream",
     "text": [
      "{'Sedan': 1500, 'SUV': 2000, 'Pickup': 2500, 'Minivan': 1600, 'Van': 2400, 'Semi': 13600, 'Bicycle': 7, 'Motorcycle': 110}\n"
     ]
    }
   ],
   "source": [
    "dicto = {k:v for k,v in zip(names, values)}\n",
    "print(dicto)"
   ]
  },
  {
   "cell_type": "markdown",
   "metadata": {},
   "source": [
    "This equivalent to declaring the folowing dict"
   ]
  },
  {
   "cell_type": "code",
   "execution_count": null,
   "metadata": {},
   "outputs": [],
   "source": [
    "vehicle_masses={\"Sedan\": 1500, \"SUV\": 2000, \"Pickup\": 2500, \"Minivan\": 1600, \"Van\": 2400, \"Semi\": 13600, \"Bicycle\": 7, \"Motorcycle\": 110}"
   ]
  },
  {
   "cell_type": "markdown",
   "metadata": {},
   "source": [
    "when you have a dictionnary you can acess its keys or values using dict.keys or dict.values but they are __NOT__ in order*\n",
    "\n",
    "*(except that Python gives them an order but... don't get used to such coding gifts)"
   ]
  },
  {
   "cell_type": "code",
   "execution_count": 123,
   "metadata": {},
   "outputs": [
    {
     "name": "stdout",
     "output_type": "stream",
     "text": [
      "['Sedan', 'SUV', 'Pickup', 'Minivan', 'Van', 'Semi', 'Bicycle', 'Motorcycle']\n",
      "[1500, 2000, 2500, 1600, 2400, 13600, 7, 110]\n"
     ]
    }
   ],
   "source": [
    "print([k for k in vehicle_masses.keys()]) \n",
    "print([v for v in vehicle_masses.values()])"
   ]
  },
  {
   "cell_type": "markdown",
   "metadata": {},
   "source": [
    "Much more useful is to get pairs with key AND value with dict.items() and print them as such"
   ]
  },
  {
   "cell_type": "code",
   "execution_count": 133,
   "metadata": {},
   "outputs": [
    {
     "data": {
      "text/plain": [
       "['The Sedan weights 1500 kg',\n",
       " 'The SUV weights 2000 kg',\n",
       " 'The Pickup weights 2500 kg',\n",
       " 'The Minivan weights 1600 kg',\n",
       " 'The Van weights 2400 kg',\n",
       " 'The Semi weights 13600 kg',\n",
       " 'The Bicycle weights 7 kg',\n",
       " 'The Motorcycle weights 110 kg']"
      ]
     },
     "execution_count": 133,
     "metadata": {},
     "output_type": "execute_result"
    }
   ],
   "source": [
    "[f\"The {k} has a mass of {v}kg\" for k,v in vehicle_masses.items()]"
   ]
  },
  {
   "cell_type": "markdown",
   "metadata": {},
   "source": [
    "## Exercise : \n",
    "Contruct a list of the names of vehicles with weight below 5000 kilograms. In the same list comprehension make the key names all upper case (str.upper)."
   ]
  },
  {
   "cell_type": "code",
   "execution_count": 137,
   "metadata": {},
   "outputs": [
    {
     "data": {
      "text/plain": [
       "'ABC'"
      ]
     },
     "execution_count": 137,
     "metadata": {},
     "output_type": "execute_result"
    }
   ],
   "source": [
    "\"abc\".upper() #here is how to force uppercase"
   ]
  },
  {
   "cell_type": "code",
   "execution_count": null,
   "metadata": {},
   "outputs": [],
   "source": [
    "below_5k = [vehicle for vehicle, mass in vehicle_masses if mass < 5000]"
   ]
  }
 ],
 "metadata": {
  "kernelspec": {
   "display_name": "Python 3",
   "language": "python",
   "name": "python3"
  },
  "language_info": {
   "codemirror_mode": {
    "name": "ipython",
    "version": 3
   },
   "file_extension": ".py",
   "mimetype": "text/x-python",
   "name": "python",
   "nbconvert_exporter": "python",
   "pygments_lexer": "ipython3",
   "version": "3.9.0"
  },
  "orig_nbformat": 2
 },
 "nbformat": 4,
 "nbformat_minor": 2
}